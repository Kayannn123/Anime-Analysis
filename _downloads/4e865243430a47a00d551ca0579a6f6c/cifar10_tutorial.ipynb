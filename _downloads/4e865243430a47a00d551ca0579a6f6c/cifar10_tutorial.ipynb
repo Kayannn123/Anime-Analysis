{
  "cells": [
    {
      "cell_type": "code",
      "execution_count": null,
      "metadata": {
        "id": "nbQCVJZ2rSOx"
      },
      "outputs": [],
      "source": [
        "1# For tips on running notebooks in Google Colab, see\n",
        "# https://pytorch.org/tutorials/beginner/colab\n",
        "%matplotlib inline"
      ]
    },
    {
      "cell_type": "markdown",
      "metadata": {
        "id": "xZVst135rSOy"
      },
      "source": [
        "Training a Classifier\n",
        "=====================\n",
        "\n",
        "This is it. You have seen how to define neural networks, compute loss\n",
        "and make updates to the weights of the network.\n",
        "\n",
        "Now you might be thinking,\n",
        "\n",
        "What about data?\n",
        "----------------\n",
        "\n",
        "Generally, when you have to deal with image, text, audio or video data,\n",
        "you can use standard python packages that load data into a numpy array.\n",
        "Then you can convert this array into a `torch.*Tensor`.\n",
        "\n",
        "-   For images, packages such as Pillow, OpenCV are useful\n",
        "-   For audio, packages such as scipy and librosa\n",
        "-   For text, either raw Python or Cython based loading, or NLTK and\n",
        "    SpaCy are useful\n",
        "\n",
        "Specifically for vision, we have created a package called `torchvision`,\n",
        "that has data loaders for common datasets such as ImageNet, CIFAR10,\n",
        "MNIST, etc. and data transformers for images, viz.,\n",
        "`torchvision.datasets` and `torch.utils.data.DataLoader`.\n",
        "\n",
        "This provides a huge convenience and avoids writing boilerplate code.\n",
        "\n",
        "For this tutorial, we will use the CIFAR10 dataset. It has the classes:\n",
        "'airplane', 'automobile', 'bird', 'cat', 'deer', 'dog', 'frog', 'horse',\n",
        "'ship', 'truck'. The images in CIFAR-10 are of size 3x32x32, i.e.\n",
        "3-channel color images of 32x32 pixels in size.\n",
        "\n",
        "![cifar10](https://pytorch.org/tutorials/_static/img/cifar10.png)\n",
        "\n",
        "Training an image classifier\n",
        "----------------------------\n",
        "\n",
        "We will do the following steps in order:\n",
        "\n",
        "1.  Load and normalize the CIFAR10 training and test datasets using\n",
        "    `torchvision`\n",
        "2.  Define a Convolutional Neural Network\n",
        "3.  Define a loss function\n",
        "4.  Train the network on the training data\n",
        "5.  Test the network on the test data\n",
        "\n",
        "### 1. Load and normalize CIFAR10\n",
        "\n",
        "Using `torchvision`, it's extremely easy to load CIFAR10.\n"
      ]
    },
    {
      "cell_type": "code",
      "execution_count": 1,
      "metadata": {
        "id": "JzwW9cCurSOy"
      },
      "outputs": [],
      "source": [
        "import torch\n",
        "import torchvision\n",
        "import torchvision.transforms as transforms"
      ]
    },
    {
      "cell_type": "markdown",
      "metadata": {
        "id": "xH5nQlPgrSOz"
      },
      "source": [
        "The output of torchvision datasets are PILImage images of range \\[0,\n",
        "1\\]. We transform them to Tensors of normalized range \\[-1, 1\\].\n"
      ]
    },
    {
      "cell_type": "markdown",
      "metadata": {
        "id": "qgprFFASrSOz"
      },
      "source": [
        "<div style=\"background-color: #54c7ec; color: #fff; font-weight: 700; padding-left: 10px; padding-top: 5px; padding-bottom: 5px\"><strong>NOTE:</strong></div>\n",
        "\n",
        "<div style=\"background-color: #f3f4f7; padding-left: 10px; padding-top: 10px; padding-bottom: 10px; padding-right: 10px\">\n",
        "\n",
        "<p>If running on Windows and you get a BrokenPipeError, try settingthe num_worker of torch.utils.data.DataLoader() to 0.</p>\n",
        "\n",
        "</div>\n",
        "\n"
      ]
    },
    {
      "cell_type": "code",
      "execution_count": 2,
      "metadata": {
        "id": "kk8ph4aLrSOz",
        "outputId": "ad04cbed-074a-453b-a6af-5f9ed74522e7",
        "colab": {
          "base_uri": "https://localhost:8080/"
        }
      },
      "outputs": [
        {
          "output_type": "stream",
          "name": "stdout",
          "text": [
            "Downloading https://www.cs.toronto.edu/~kriz/cifar-10-python.tar.gz to ./data/cifar-10-python.tar.gz\n"
          ]
        },
        {
          "output_type": "stream",
          "name": "stderr",
          "text": [
            "100%|██████████| 170M/170M [00:01<00:00, 87.9MB/s]\n"
          ]
        },
        {
          "output_type": "stream",
          "name": "stdout",
          "text": [
            "Extracting ./data/cifar-10-python.tar.gz to ./data\n",
            "Files already downloaded and verified\n"
          ]
        }
      ],
      "source": [
        "transform = transforms.Compose(\n",
        "    [transforms.ToTensor(),\n",
        "     transforms.Normalize((0.5, 0.5, 0.5), (0.5, 0.5, 0.5))])\n",
        "\n",
        "batch_size = 4\n",
        "\n",
        "trainset = torchvision.datasets.CIFAR10(root='./data', train=True,\n",
        "                                        download=True, transform=transform)\n",
        "trainloader = torch.utils.data.DataLoader(trainset, batch_size=batch_size,\n",
        "                                          shuffle=True, num_workers=2)\n",
        "\n",
        "testset = torchvision.datasets.CIFAR10(root='./data', train=False,\n",
        "                                       download=True, transform=transform)\n",
        "testloader = torch.utils.data.DataLoader(testset, batch_size=batch_size,\n",
        "                                         shuffle=False, num_workers=2)\n",
        "\n",
        "classes = ('plane', 'car', 'bird', 'cat',\n",
        "           'deer', 'dog', 'frog', 'horse', 'ship', 'truck')"
      ]
    },
    {
      "cell_type": "markdown",
      "metadata": {
        "id": "QcdtiCJOrSOz"
      },
      "source": [
        "Let us show some of the training images, for fun.\n"
      ]
    },
    {
      "cell_type": "code",
      "execution_count": 3,
      "metadata": {
        "id": "RPm5dJYprSO0",
        "outputId": "cc5ff3cb-bfc6-4439-9edd-e02277c57722",
        "colab": {
          "base_uri": "https://localhost:8080/",
          "height": 211
        }
      },
      "outputs": [
        {
          "output_type": "display_data",
          "data": {
            "text/plain": [
              "<Figure size 640x480 with 1 Axes>"
            ],
            "image/png": "[encoded data removed]"
          },
          "metadata": {}
        },
        {
          "output_type": "stream",
          "name": "stdout",
          "text": [
            "car   bird  frog  deer \n"
          ]
        }
      ],
      "source": [
        "import matplotlib.pyplot as plt\n",
        "import numpy as np\n",
        "\n",
        "# functions to show an image\n",
        "\n",
        "\n",
        "def imshow(img):\n",
        "    img = img / 2 + 0.5     # unnormalize\n",
        "    npimg = img.numpy()\n",
        "    plt.imshow(np.transpose(npimg, (1, 2, 0)))\n",
        "    plt.show()\n",
        "\n",
        "\n",
        "# get some random training images\n",
        "dataiter = iter(trainloader)\n",
        "images, labels = next(dataiter)\n",
        "\n",
        "# show images\n",
        "imshow(torchvision.utils.make_grid(images))\n",
        "# print labels\n",
        "print(' '.join(f'{classes[labels[j]]:5s}' for j in range(batch_size)))"
      ]
    },
    {
      "cell_type": "markdown",
      "metadata": {
        "id": "3brbwXjcrSO0"
      },
      "source": [
        "2. Define a Convolutional Neural Network\n",
        "========================================\n",
        "\n",
        "Copy the neural network from the Neural Networks section before and\n",
        "modify it to take 3-channel images (instead of 1-channel images as it\n",
        "was defined).\n"
      ]
    },
    {
      "cell_type": "code",
      "execution_count": 4,
      "metadata": {
        "id": "uFNYfz9TrSO0"
      },
      "outputs": [],
      "source": [
        "import torch.nn as nn\n",
        "import torch.nn.functional as F\n",
        "\n",
        "\n",
        "class Net(nn.Module):\n",
        "    def __init__(self):\n",
        "        super().__init__()\n",
        "        self.conv1 = nn.Conv2d(3, 6, 5)\n",
        "        self.pool = nn.MaxPool2d(2, 2)\n",
        "        self.conv2 = nn.Conv2d(6, 16, 5)\n",
        "        self.fc1 = nn.Linear(16 * 5 * 5, 120)\n",
        "        self.fc2 = nn.Linear(120, 84)\n",
        "        self.fc3 = nn.Linear(84, 10)\n",
        "\n",
        "    def forward(self, x):\n",
        "        x = self.pool(F.relu(self.conv1(x)))\n",
        "        x = self.pool(F.relu(self.conv2(x)))\n",
        "        x = torch.flatten(x, 1) # flatten all dimensions except batch\n",
        "        x = F.relu(self.fc1(x))\n",
        "        x = F.relu(self.fc2(x))\n",
        "        x = self.fc3(x)\n",
        "        return x\n",
        "\n",
        "\n",
        "net = Net()"
      ]
    },
    {
      "cell_type": "markdown",
      "metadata": {
        "id": "GDT3CEZyrSO0"
      },
      "source": [
        "3. Define a Loss function and optimizer\n",
        "=======================================\n",
        "\n",
        "Let\\'s use a Classification Cross-Entropy loss and SGD with momentum.\n"
      ]
    },
    {
      "cell_type": "code",
      "execution_count": 5,
      "metadata": {
        "id": "-ype2r5krSO0"
      },
      "outputs": [],
      "source": [
        "import torch.optim as optim\n",
        "\n",
        "criterion = nn.CrossEntropyLoss()\n",
        "optimizer = optim.SGD(net.parameters(), lr=0.001, momentum=0.9)"
      ]
    },
    {
      "cell_type": "markdown",
      "metadata": {
        "id": "FWS91MJurSO1"
      },
      "source": [
        "4. Train the network\n",
        "====================\n",
        "\n",
        "This is when things start to get interesting. We simply have to loop\n",
        "over our data iterator, and feed the inputs to the network and optimize.\n"
      ]
    },
    {
      "cell_type": "code",
      "execution_count": 6,
      "metadata": {
        "id": "VcYt9cQprSO1",
        "outputId": "efc1c463-ce4f-4ea4-ec30-e351884dfac8",
        "colab": {
          "base_uri": "https://localhost:8080/"
        }
      },
      "outputs": [
        {
          "output_type": "stream",
          "name": "stdout",
          "text": [
            "[1,  2000] loss: 2.181\n",
            "[1,  4000] loss: 1.864\n",
            "[1,  6000] loss: 1.695\n",
            "[1,  8000] loss: 1.594\n",
            "[1, 10000] loss: 1.552\n",
            "[1, 12000] loss: 1.479\n",
            "[2,  2000] loss: 1.432\n",
            "[2,  4000] loss: 1.405\n",
            "[2,  6000] loss: 1.357\n",
            "[2,  8000] loss: 1.365\n",
            "[2, 10000] loss: 1.328\n",
            "[2, 12000] loss: 1.305\n",
            "Finished Training\n"
          ]
        }
      ],
      "source": [
        "for epoch in range(2):  # loop over the dataset multiple times\n",
        "\n",
        "    running_loss = 0.0\n",
        "    for i, data in enumerate(trainloader, 0):\n",
        "        # get the inputs; data is a list of [inputs, labels]\n",
        "        inputs, labels = data\n",
        "\n",
        "        # zero the parameter gradients\n",
        "        optimizer.zero_grad()\n",
        "\n",
        "        # forward + backward + optimize\n",
        "        outputs = net(inputs)\n",
        "        loss = criterion(outputs, labels)\n",
        "        loss.backward()\n",
        "        optimizer.step()\n",
        "\n",
        "        # print statistics\n",
        "        running_loss += loss.item()\n",
        "        if i % 2000 == 1999:    # print every 2000 mini-batches\n",
        "            print(f'[{epoch + 1}, {i + 1:5d}] loss: {running_loss / 2000:.3f}')\n",
        "            running_loss = 0.0\n",
        "\n",
        "print('Finished Training')"
      ]
    },
    {
      "cell_type": "markdown",
      "metadata": {
        "id": "B2HOC-lWrSO1"
      },
      "source": [
        "Let\\'s quickly save our trained model:\n"
      ]
    },
    {
      "cell_type": "code",
      "execution_count": 7,
      "metadata": {
        "id": "IMA7LWDKrSO1"
      },
      "outputs": [],
      "source": [
        "PATH = './cifar_net.pth'\n",
        "torch.save(net.state_dict(), PATH)"
      ]
    },
    {
      "cell_type": "markdown",
      "metadata": {
        "id": "YYmC9ONDrSO1"
      },
      "source": [
        "See [here](https://pytorch.org/docs/stable/notes/serialization.html) for\n",
        "more details on saving PyTorch models.\n",
        "\n",
        "5. Test the network on the test data\n",
        "====================================\n",
        "\n",
        "We have trained the network for 2 passes over the training dataset. But\n",
        "we need to check if the network has learnt anything at all.\n",
        "\n",
        "We will check this by predicting the class label that the neural network\n",
        "outputs, and checking it against the ground-truth. If the prediction is\n",
        "correct, we add the sample to the list of correct predictions.\n",
        "\n",
        "Okay, first step. Let us display an image from the test set to get\n",
        "familiar.\n"
      ]
    },
    {
      "cell_type": "code",
      "execution_count": 8,
      "metadata": {
        "id": "2Pi9JFZUrSO1",
        "outputId": "6862432d-9866-41bc-f11f-891b565b4a20",
        "colab": {
          "base_uri": "https://localhost:8080/",
          "height": 211
        }
      },
      "outputs": [
        {
          "output_type": "display_data",
          "data": {
            "text/plain": [
              "<Figure size 640x480 with 1 Axes>"
            ],
            "image/png": "[encoded data removed]"
          },
          "metadata": {}
        },
        {
          "output_type": "stream",
          "name": "stdout",
          "text": [
            "GroundTruth:  cat   ship  ship  plane\n"
          ]
        }
      ],
      "source": [
        "dataiter = iter(testloader)\n",
        "images, labels = next(dataiter)\n",
        "\n",
        "# print images\n",
        "imshow(torchvision.utils.make_grid(images))\n",
        "print('GroundTruth: ', ' '.join(f'{classes[labels[j]]:5s}' for j in range(4)))"
      ]
    },
    {
      "cell_type": "markdown",
      "metadata": {
        "id": "vnb5dhrPrSO1"
      },
      "source": [
        "Next, let\\'s load back in our saved model (note: saving and re-loading\n",
        "the model wasn\\'t necessary here, we only did it to illustrate how to do\n",
        "so):\n"
      ]
    },
    {
      "cell_type": "code",
      "execution_count": 9,
      "metadata": {
        "id": "c05vSYAdrSO1",
        "outputId": "32448451-5432-4b29-a15f-77de8a4b419d",
        "colab": {
          "base_uri": "https://localhost:8080/"
        }
      },
      "outputs": [
        {
          "output_type": "execute_result",
          "data": {
            "text/plain": [
              "<All keys matched successfully>"
            ]
          },
          "metadata": {},
          "execution_count": 9
        }
      ],
      "source": [
        "net = Net()\n",
        "net.load_state_dict(torch.load(PATH, weights_only=True))"
      ]
    },
    {
      "cell_type": "markdown",
      "metadata": {
        "id": "5MEL-TcorSO1"
      },
      "source": [
        "Okay, now let us see what the neural network thinks these examples above\n",
        "are:\n"
      ]
    },
    {
      "cell_type": "code",
      "execution_count": 10,
      "metadata": {
        "id": "9TDgMBfRrSO1"
      },
      "outputs": [],
      "source": [
        "outputs = net(images)"
      ]
    },
    {
      "cell_type": "markdown",
      "metadata": {
        "id": "pOb99-1hrSO1"
      },
      "source": [
        "The outputs are energies for the 10 classes. The higher the energy for a\n",
        "class, the more the network thinks that the image is of the particular\n",
        "class. So, let\\'s get the index of the highest energy:\n"
      ]
    },
    {
      "cell_type": "code",
      "execution_count": 11,
      "metadata": {
        "id": "7Ex3PoiRrSO1",
        "outputId": "4de13e1d-9a71-4f39-bd65-bf303ba6b1e3",
        "colab": {
          "base_uri": "https://localhost:8080/"
        }
      },
      "outputs": [
        {
          "output_type": "stream",
          "name": "stdout",
          "text": [
            "Predicted:  cat   ship  ship  plane\n"
          ]
        }
      ],
      "source": [
        "_, predicted = torch.max(outputs, 1)\n",
        "\n",
        "print('Predicted: ', ' '.join(f'{classes[predicted[j]]:5s}'\n",
        "                              for j in range(4)))"
      ]
    },
    {
      "cell_type": "markdown",
      "metadata": {
        "id": "m8aocNV8rSO1"
      },
      "source": [
        "The results seem pretty good.\n",
        "\n",
        "Let us look at how the network performs on the whole dataset.\n"
      ]
    },
    {
      "cell_type": "code",
      "execution_count": 12,
      "metadata": {
        "id": "mCyoKPYDrSO1",
        "outputId": "8e97047f-7d6b-46ff-e7ed-ad79bb33f52a",
        "colab": {
          "base_uri": "https://localhost:8080/"
        }
      },
      "outputs": [
        {
          "output_type": "stream",
          "name": "stdout",
          "text": [
            "Accuracy of the network on the 10000 test images: 54 %\n"
          ]
        }
      ],
      "source": [
        "correct = 0\n",
        "total = 0\n",
        "# since we're not training, we don't need to calculate the gradients for our outputs\n",
        "with torch.no_grad():\n",
        "    for data in testloader:\n",
        "        images, labels = data\n",
        "        # calculate outputs by running images through the network\n",
        "        outputs = net(images)\n",
        "        # the class with the highest energy is what we choose as prediction\n",
        "        _, predicted = torch.max(outputs, 1)\n",
        "        total += labels.size(0)\n",
        "        correct += (predicted == labels).sum().item()\n",
        "\n",
        "print(f'Accuracy of the network on the 10000 test images: {100 * correct // total} %')"
      ]
    },
    {
      "cell_type": "markdown",
      "metadata": {
        "id": "jhHRiRaurSO2"
      },
      "source": [
        "That looks way better than chance, which is 10% accuracy (randomly\n",
        "picking a class out of 10 classes). Seems like the network learnt\n",
        "something.\n",
        "\n",
        "Hmmm, what are the classes that performed well, and the classes that did\n",
        "not perform well:\n"
      ]
    },
    {
      "cell_type": "code",
      "execution_count": 13,
      "metadata": {
        "id": "NXSD6QUYrSO2",
        "outputId": "75b442a6-b300-4862-fe71-31baaa5c866f",
        "colab": {
          "base_uri": "https://localhost:8080/"
        }
      },
      "outputs": [
        {
          "output_type": "stream",
          "name": "stdout",
          "text": [
            "Accuracy for class: plane is 56.8 %\n",
            "Accuracy for class: car   is 72.8 %\n",
            "Accuracy for class: bird  is 43.0 %\n",
            "Accuracy for class: cat   is 47.6 %\n",
            "Accuracy for class: deer  is 48.7 %\n",
            "Accuracy for class: dog   is 30.1 %\n",
            "Accuracy for class: frog  is 69.0 %\n",
            "Accuracy for class: horse is 59.2 %\n",
            "Accuracy for class: ship  is 73.9 %\n",
            "Accuracy for class: truck is 47.4 %\n"
          ]
        }
      ],
      "source": [
        "# prepare to count predictions for each class\n",
        "correct_pred = {classname: 0 for classname in classes}\n",
        "total_pred = {classname: 0 for classname in classes}\n",
        "\n",
        "# again no gradients needed\n",
        "with torch.no_grad():\n",
        "    for data in testloader:\n",
        "        images, labels = data\n",
        "        outputs = net(images)\n",
        "        _, predictions = torch.max(outputs, 1)\n",
        "        # collect the correct predictions for each class\n",
        "        for label, prediction in zip(labels, predictions):\n",
        "            if label == prediction:\n",
        "                correct_pred[classes[label]] += 1\n",
        "            total_pred[classes[label]] += 1\n",
        "\n",
        "\n",
        "# print accuracy for each class\n",
        "for classname, correct_count in correct_pred.items():\n",
        "    accuracy = 100 * float(correct_count) / total_pred[classname]\n",
        "    print(f'Accuracy for class: {classname:5s} is {accuracy:.1f} %')"
      ]
    },
    {
      "cell_type": "markdown",
      "metadata": {
        "id": "i2mO01SerSO2"
      },
      "source": [
        "Okay, so what next?\n",
        "\n",
        "How do we run these neural networks on the GPU?\n",
        "\n",
        "Training on GPU\n",
        "===============\n",
        "\n",
        "Just like how you transfer a Tensor onto the GPU, you transfer the\n",
        "neural net onto the GPU.\n",
        "\n",
        "Let\\'s first define our device as the first visible cuda device if we\n",
        "have CUDA available:\n"
      ]
    },
    {
      "cell_type": "code",
      "execution_count": 14,
      "metadata": {
        "id": "Y_8fZLOWrSO2",
        "outputId": "cd154518-1044-46c8-c303-580b6ba01e72",
        "colab": {
          "base_uri": "https://localhost:8080/"
        }
      },
      "outputs": [
        {
          "output_type": "stream",
          "name": "stdout",
          "text": [
            "cpu\n"
          ]
        }
      ],
      "source": [
        "device = torch.device('cuda:0' if torch.cuda.is_available() else 'cpu')\n",
        "\n",
        "# Assuming that we are on a CUDA machine, this should print a CUDA device:\n",
        "\n",
        "print(device)"
      ]
    },
    {
      "cell_type": "markdown",
      "metadata": {
        "id": "AzOninxtrSO2"
      },
      "source": [
        "The rest of this section assumes that `device` is a CUDA device.\n",
        "\n",
        "Then these methods will recursively go over all modules and convert\n",
        "their parameters and buffers to CUDA tensors:\n",
        "\n",
        "``` {.python}\n",
        "net.to(device)\n",
        "```\n",
        "\n",
        "Remember that you will have to send the inputs and targets at every step\n",
        "to the GPU too:\n",
        "\n",
        "``` {.python}\n",
        "inputs, labels = data[0].to(device), data[1].to(device)\n",
        "```\n",
        "\n",
        "Why don\\'t I notice MASSIVE speedup compared to CPU? Because your\n",
        "network is really small.\n",
        "\n",
        "**Exercise:** Try increasing the width of your network (argument 2 of\n",
        "the first `nn.Conv2d`, and argument 1 of the second `nn.Conv2d` -- they\n",
        "need to be the same number), see what kind of speedup you get.\n",
        "\n",
        "**Goals achieved**:\n",
        "\n",
        "-   Understanding PyTorch\\'s Tensor library and neural networks at a\n",
        "    high level.\n",
        "-   Train a small neural network to classify images\n",
        "\n",
        "Training on multiple GPUs\n",
        "=========================\n",
        "\n",
        "If you want to see even more MASSIVE speedup using all of your GPUs,\n",
        "please check out `data_parallel_tutorial`{.interpreted-text role=\"doc\"}.\n",
        "\n",
        "Where do I go next?\n",
        "===================\n",
        "\n",
        "-   `Train neural nets to play video games </intermediate/reinforcement_q_learning>`{.interpreted-text\n",
        "    role=\"doc\"}\n",
        "-   [Train a state-of-the-art ResNet network on\n",
        "    imagenet](https://github.com/pytorch/examples/tree/master/imagenet)\n",
        "-   [Train a face generator using Generative Adversarial\n",
        "    Networks](https://github.com/pytorch/examples/tree/master/dcgan)\n",
        "-   [Train a word-level language model using Recurrent LSTM\n",
        "    networks](https://github.com/pytorch/examples/tree/master/word_language_model)\n",
        "-   [More examples](https://github.com/pytorch/examples)\n",
        "-   [More tutorials](https://github.com/pytorch/tutorials)\n",
        "-   [Discuss PyTorch on the Forums](https://discuss.pytorch.org/)\n",
        "-   [Chat with other users on\n",
        "    Slack](https://pytorch.slack.com/messages/beginner/)\n"
      ]
    },
    {
      "cell_type": "code",
      "execution_count": null,
      "metadata": {
        "id": "eg7_IeHmrSO2"
      },
      "outputs": [],
      "source": [
        "del dataiter"
      ]
    }
  ],
  "metadata": {
    "kernelspec": {
      "display_name": "Python 3",
      "language": "python",
      "name": "python3"
    },
    "language_info": {
      "codemirror_mode": {
        "name": "ipython",
        "version": 3
      },
      "file_extension": ".py",
      "mimetype": "text/x-python",
      "name": "python",
      "nbconvert_exporter": "python",
      "pygments_lexer": "ipython3",
      "version": "3.10.12"
    },
    "colab": {
      "provenance": []
    }
  },
  "nbformat": 4,
  "nbformat_minor": 0
}